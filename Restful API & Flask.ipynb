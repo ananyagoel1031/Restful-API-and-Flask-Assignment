{
 "cells": [
  {
   "cell_type": "markdown",
   "id": "7dce97e4-c2bb-4898-875d-a0755ab43061",
   "metadata": {},
   "source": [
    "# Restful API & Flask : Assignment"
   ]
  },
  {
   "cell_type": "markdown",
   "id": "0a59c6e8-9592-412b-883c-db1d0240e178",
   "metadata": {},
   "source": [
    "## Assignment Questions"
   ]
  },
  {
   "cell_type": "markdown",
   "id": "8c4e682a-27ce-4205-bf1c-329c30f4c4ee",
   "metadata": {},
   "source": [
    "### Q1.  What is a RESTful API?"
   ]
  },
  {
   "cell_type": "markdown",
   "id": "77793afb-7c6d-49a2-b451-c2bc6ef48137",
   "metadata": {},
   "source": [
    "#### A1. RESTful commands refer to the HTTP methods used in REST APIs to perform operations on resources. These methods align with CRUD (Create, Read, Update, Delete) operations and are essential for interacting with RESTful services."
   ]
  },
  {
   "cell_type": "markdown",
   "id": "c25e8ea0-5e25-4eff-b96e-3ec52b1c7882",
   "metadata": {},
   "source": [
    "### Q2.  Explain the concept of API specification."
   ]
  },
  {
   "cell_type": "markdown",
   "id": "ee592620-992b-4fc3-b719-326b7774b7f8",
   "metadata": {},
   "source": [
    "#### A2. API specifications are detailed descriptions of how an API behaves and interacts with other APIs. They provide a comprehensive understanding of the API's functionality, the expected results, and how the API links with other APIs. These specifications are crucial for standardizing data exchange between web services, ensuring that diverse systems can communicate effectively, regardless of the programming languages or technologies used."
   ]
  },
  {
   "cell_type": "markdown",
   "id": "4ab5d1c7-947a-4519-bfbc-0112ab3bac4f",
   "metadata": {},
   "source": [
    "### Q3. What is Flask, and why is it popular for building APIs?"
   ]
  },
  {
   "cell_type": "markdown",
   "id": "dc91d562-ca0e-467b-b7b9-1f7e270f531a",
   "metadata": {},
   "source": [
    "#### A3. Flask is a micro web framework written in Python. It’s minimal, flexible, and easy to get started with, making it a great choice for building REST APIs. Flask allows developers to build web applications with a focus on simplicity and scalability."
   ]
  },
  {
   "cell_type": "markdown",
   "id": "7d02a076-2978-4de1-a0b3-280c0d17a86f",
   "metadata": {},
   "source": [
    "### Q4. What is routing in Flask?"
   ]
  },
  {
   "cell_type": "markdown",
   "id": "a4050b72-6695-42ce-bb26-06b06ccc7eeb",
   "metadata": {},
   "source": [
    "#### A4. Flask routing is a core feature that allows developers to map URLs to specific functions, enabling dynamic and user-friendly web applications. This is achieved using decorators like @app.route() or the add_url_rule() method. "
   ]
  },
  {
   "cell_type": "markdown",
   "id": "624dc9bf-c499-4db1-88fb-ba090259dd4e",
   "metadata": {},
   "source": [
    "### Q5. How do you create a simple Flask application?"
   ]
  },
  {
   "cell_type": "markdown",
   "id": "5daa3469-5601-4c98-beba-25ab01155c6a",
   "metadata": {},
   "source": [
    "#### A5. Creating a simple Flask application is straightforward and involves just a few steps.\n",
    "\n",
    "#### 1. Install Flask: Make sure you have Python installed. Then, install Flask using pip:\n",
    "#### pip install flask\n",
    "#### 2. Create a Basic Flask Application: Create a Python file, e.g., app.py, and write the following code:\n",
    "#### from flask import Flask\n",
    "#### app = Flask(__name__)\n",
    "#### @app.route('/')\n",
    "#### def home():\n",
    "####    return \"Hello, Flask!\"\n",
    "#### if _ _ name _ _ == '_ _ main _ _':\n",
    "####    app.run(debug=True)\n",
    "#### 3. Run the Application: Run the script in your terminal:\n",
    "#### python app.py"
   ]
  },
  {
   "cell_type": "markdown",
   "id": "6a971f0e-befb-4f30-a37d-c69f08b22411",
   "metadata": {},
   "source": [
    "### Q6. What are HTTP methods used in RESTful APIs?"
   ]
  },
  {
   "cell_type": "markdown",
   "id": "d58cae6b-304a-4cfb-90ec-46bd31257006",
   "metadata": {},
   "source": [
    "#### A6. HTTP methods are essential in RESTful APIs as they define the type of operation to be performed on a resource. Here are the five primary HTTP methods commonly used in web APIs:\n",
    "\n",
    "#### GET:  The GET method is used to retrieve data from the server without modifying it. It is idempotent, meaning multiple identical requests produce the same result. For example, fetching a list of users or a specific user's details.\n",
    "\n",
    "#### POST:  The POST method is used to create new resources on the server. It is not idempotent, meaning multiple identical requests can result in duplicate resources. For instance, adding a new user to a database.\n",
    "\n",
    "#### 3. PUT:  The PUT method is used to update or replace an existing resource. If the resource does not exist, it may create a new one. It is idempotent, meaning repeated requests yield the same result. For example, updating a user's profile information.\n",
    "\n",
    "#### 4. DELETE:  The DELETE method is used to remove a resource from the server. It is idempotent, meaning repeated requests to delete the same resource will have the same outcome. For example, deleting a user from a database.\n",
    "\n",
    "#### These methods form the foundation of CRUD operations (Create, Read, Update, Delete) in RESTful APIs, enabling efficient interaction with server-side resources."
   ]
  },
  {
   "cell_type": "markdown",
   "id": "693c10d0-bcc6-40ae-af85-2be8b50d604c",
   "metadata": {},
   "source": [
    "### Q7. What is the purpose of the @app.route() decorator in Flask?"
   ]
  },
  {
   "cell_type": "markdown",
   "id": "9c903306-1344-4f81-8faf-25f086d9e0f6",
   "metadata": {},
   "source": [
    "#### A7. The @app.route() decorator in Flask is used to map a specific URL path to a Python function, which is called a view function. This allows Flask to determine which function should handle a particular request when a user accesses a specific URL in the web application.\n",
    "\n",
    "#### Key Purposes of @app.route():\n",
    "#### 1. URL Mapping: It connects a URL (e.g., /, /about) to a function that processes the request and returns a response.\n",
    "#### 2. Dynamic Routing: It supports dynamic URLs by allowing variable rules (e.g., /user/<username>), enabling the creation of flexible and user-specific routes.\n",
    "#### 3. HTTP Method Handling: By default, it handles GET requests, but you can specify other HTTP methods (e.g., POST, PUT, DELETE) using the methods parameter."
   ]
  },
  {
   "cell_type": "markdown",
   "id": "925ab3e7-2231-4d3d-8165-0cc043a88ae7",
   "metadata": {},
   "source": [
    "### Q8. What is the difference between GET and POST HTTP methods?"
   ]
  },
  {
   "cell_type": "markdown",
   "id": "acba7d80-5be9-413d-9419-316a57ad8bbc",
   "metadata": {},
   "source": [
    "#### A8. HTTP GET: The HTTP GET method requests data from a server without altering its state. It appends parameters to the URL, making it suitable for retrieving non-sensitive data. Commonly used for viewing content, GET is ideal for requests that don't involve data modification.\n",
    "\n",
    "#### HTTP POST: The HTTP POST method sends data from the client to the server to create or update resources, storing data in the request body. It's suitable for secure data transfer, like images or documents, with security relying on encryption (HTTPS), authentication, and validation."
   ]
  },
  {
   "cell_type": "markdown",
   "id": "8caf5f71-a7f6-4338-91c5-f04abb54c902",
   "metadata": {},
   "source": [
    "### Q9. How do you handle errors in Flask APIs?"
   ]
  },
  {
   "cell_type": "markdown",
   "id": "ba622ffe-7648-48ea-bf1e-10c5debc0bb9",
   "metadata": {},
   "source": [
    "#### When developing Flask applications, you may encounter various errors. Proper error handling ensures that your application can gracefully manage these issues and provide meaningful feedback to users.\n",
    "\n",
    "#### Example\n",
    "\n",
    "#### from flask import Flask, jsonify\n",
    "\n",
    "#### app = Flask(__name__)\n",
    "#### @app.route('/divide')\n",
    "#### def divide():\n",
    "####    try:\n",
    "####    result = 10 / 0\n",
    "####    except ZeroDivisionError:\n",
    "####    return jsonify(error=\"Division by zero is not allowed\"), 400\n",
    "\n",
    "#### if __ name __ == '__ main __':\n",
    "####      app.run(debug=True)"
   ]
  },
  {
   "cell_type": "markdown",
   "id": "91c99aa2-5e09-469f-ab4d-93bf9da0de76",
   "metadata": {},
   "source": [
    "### Q10. How do you connect Flask to a SQL database?"
   ]
  },
  {
   "cell_type": "markdown",
   "id": "935d934d-5e2f-44d4-8dbc-938ca104fc1a",
   "metadata": {},
   "source": [
    "### A10. To connect a Python Flask application to a MySQL database, you can use the flask-mysqldb library. "
   ]
  },
  {
   "cell_type": "markdown",
   "id": "2f60c560-5199-44e6-821a-660da2158d80",
   "metadata": {},
   "source": [
    "### Q11. What is the role of Flask-SQLAlchemy?"
   ]
  },
  {
   "cell_type": "markdown",
   "id": "cf6cc21f-6255-4720-87f2-f1f87f3dfa60",
   "metadata": {},
   "source": [
    "#### A11. Flask doesn’t have a built-in way to handle databases, so it relies on SQLAlchemy, a powerful library that makes working with databases easier. SQLAlchemy provides an Object Relational Mapper (ORM), allowing developers to interact with databases using Python code instead of raw SQL.\n",
    "\n",
    "#### This brings several advantages:\n",
    "#### 1. Simplifies database management.\n",
    "#### 2. Improves security.\n",
    "#### 3. Supports multiple database systems like SQLite, MySQL and PostgreSQL.\n",
    "#### 4. Easily integrates with Flask using the Flask - SQLAlchemy extension."
   ]
  },
  {
   "cell_type": "markdown",
   "id": "bfe6638f-fb3c-4613-bde1-ca887fafa43b",
   "metadata": {},
   "source": [
    "### Q12.  What are Flask blueprints, and how are they useful?"
   ]
  },
  {
   "cell_type": "markdown",
   "id": "2afa0be7-7e77-4a39-90fd-01c38610ebe5",
   "metadata": {},
   "source": [
    "#### A12. Flask Blueprints are a feature in the Flask web framework that allows developers to organize their application into smaller, reusable components. Each blueprint can contain its own routes, views, templates, and static files, enabling a modular approach to application development. This is particularly useful for larger applications where maintaining a single file can become cumbersome.\n",
    "\n",
    "#### Uses of Flask Blueprints\n",
    "#### 1. Modularity: Blueprints allow you to break down your application into smaller, self-contained modules. This promotes code reuse and makes it easier to collaborate with other developers, as different teams can work on different blueprints independently. \n",
    "#### 2. Scalability: As your application grows, you can easily add or remove blueprints without affecting the overall structure of your application. This flexibility helps in managing large codebases effectively. \n",
    "#### 3. Organization: Blueprints provide a structured way to organize your routes, views, and templates. This organization helps in maintaining a clean and understandable codebase, making it easier to navigate and manage. \n",
    "#### 4. URL Prefixing: You can register a blueprint with a specific URL prefix, allowing you to group related routes under a common path. This is useful for creating RESTful APIs or organizing routes logically. \n"
   ]
  },
  {
   "cell_type": "markdown",
   "id": "6009b3b3-350f-4970-a583-1f913f867a05",
   "metadata": {},
   "source": [
    "### Q13. What is the purpose of Flask's request object?"
   ]
  },
  {
   "cell_type": "markdown",
   "id": "0e740b87-75a5-4691-8c09-e64eaf7778ee",
   "metadata": {},
   "source": [
    "#### A13. Flask's request object serves as a powerful tool for handling incoming HTTP requests in a Flask web application. It encapsulates all the details of the request made by the client (browser or other applications) to the server. Its purpose:\n",
    "#### 1. Accessing HTTP Methods: It allows you to determine the HTTP method (e.g., GET, POST, PUT, DELETE) used for the request via request.method.\n",
    "#### 2. Retrieving URL and Query Parameters: You can access the request URL (request.url) and any query parameters (e.g., ?key=value) using request.args.\n",
    "#### 3. Handling Form Data: Data submitted through forms can be accessed using request.form, which behaves like a dictionary of key-value pairs.\n",
    "#### 4. Reading Headers and Cookies: It provides access to HTTP headers (request.headers) and cookies (request.cookies) sent by the client.\n",
    "#### 5. Managing File Uploads: If the request includes file uploads, these can be accessed through request.files"
   ]
  },
  {
   "cell_type": "markdown",
   "id": "83bac448-7901-4ae2-94c1-fa798c99ab03",
   "metadata": {},
   "source": [
    "### Q14.  How do you create a RESTful API endpoint using Flask?"
   ]
  },
  {
   "cell_type": "markdown",
   "id": "b07ed609-c82a-4115-af12-75da69b34141",
   "metadata": {},
   "source": [
    "#### A14. To create a RESTful API endpoint using Flask, set up your environment, define routes, and handle HTTP methods to return JSON responses.\n",
    "#### Step 1: Set Up Your Environment\n",
    "#### Install Flask: Ensure you have Python installed, then install Flask using pip:\n",
    "#### pip install Flask\n",
    "#### Step 2: Create a Basic Flask Application\n",
    "#### Create a file named app.py and open it in your text editor. Add the following code to set up a basic Flask application:\n",
    "#### from flask import Flask, jsonify\n",
    "#### app = Flask(__name__)\n",
    "#### @app.route('/api/hello', methods=['GET'])\n",
    "#### def hello():\n",
    "#### return jsonify(message=\"Hello, World!\")\n",
    "#### if __ name __ == '__ main __':\n",
    "#### app.run(debug=True)\n",
    "#### Run the application:\n",
    "#### python app.py\n",
    "#### Step 3: Define Additional API Endpoints\n",
    "#### Create a new endpoint to handle a GET request with a parameter\n",
    "#### Step 4: Test Your API\n",
    "#### Use Postman or curl to test your endpoints. "
   ]
  },
  {
   "cell_type": "markdown",
   "id": "32809f2c-2d1a-416f-a78a-4a4d82f6bed7",
   "metadata": {},
   "source": [
    "### Q15. What is the purpose of Flask's jsonify() function?"
   ]
  },
  {
   "cell_type": "markdown",
   "id": "e7c30e7a-0378-47d9-acf2-afd83d49a7e8",
   "metadata": {},
   "source": [
    "#### A15. Flask's jsonify() function is a built-in helper function used to create JSON responses in Flask applications. Its primary purpose is to simplify the process of converting Python objects (like dictionaries, lists, etc.) into JSON format while ensuring the response is properly structured for web communication."
   ]
  },
  {
   "cell_type": "markdown",
   "id": "93a0cefe-a688-495b-b076-c42848f72817",
   "metadata": {},
   "source": [
    "### Q16. Explain Flask’s url_for() function."
   ]
  },
  {
   "cell_type": "markdown",
   "id": "69393c41-bbaf-4f0d-9eae-42168b785830",
   "metadata": {},
   "source": [
    "#### A16. The url_for() function in Flask is a powerful utility used to dynamically generate URLs for your application. Instead of hardcoding URLs, url_for() allows you to create URLs based on the name of the view function and any arguments it requires. This ensures flexibility and maintainability, especially when the structure of your application changes."
   ]
  },
  {
   "cell_type": "markdown",
   "id": "8f088c4a-19a8-470a-9928-3e4b532846f6",
   "metadata": {},
   "source": [
    "### Q17. How does Flask handle static files (CSS, JavaScript, etc.)?"
   ]
  },
  {
   "cell_type": "markdown",
   "id": "22cf070f-1057-4afe-9be1-81fe25f83472",
   "metadata": {},
   "source": [
    "#### A17. Flask provides a straightforward way to handle static files like CSS, JavaScript, images, and other assets that do not change dynamically. Here's how it works:\n",
    "\n",
    "#### Static Folder:\n",
    "#### Flask automatically looks for a folder named static in your project directory. This is the default location for all static files. You can organize your files within this folder, such as creating subdirectories for css, js, images, etc.\n",
    "\n",
    "#### Example structure:\n",
    "#### /project\n",
    "####       /static\n",
    "####       /css\n",
    "####            style.css\n",
    "####        /js\n",
    "####            script.js\n",
    "####        /images\n",
    "####            logo.png\n",
    "####    /templates\n",
    "####        index.html\n",
    "####    app.py\n",
    "#### Accessing Static Files in Templates: To include static files in your HTML templates, Flask provides the url_for() function. This generates the correct URL for the static file."
   ]
  },
  {
   "cell_type": "markdown",
   "id": "2558a0a4-fdb1-49e3-bd8d-78d76b57afe2",
   "metadata": {},
   "source": [
    "### Q18. What is an API specification, and how does it help in building a Flask API?"
   ]
  },
  {
   "cell_type": "markdown",
   "id": "029e5eb8-8e7c-4447-b76c-bfb34875d856",
   "metadata": {},
   "source": [
    "#### A18. API specifications are detailed descriptions of how an API behaves and interacts with other APIs. They provide a comprehensive understanding of the API's functionality, the expected results, and how the API links with other APIs. These specifications are crucial for standardizing data exchange between web services, ensuring that diverse systems can communicate effectively, regardless of the programming languages or technologies used."
   ]
  },
  {
   "cell_type": "markdown",
   "id": "3c003975-967d-419f-b42a-1a577a8d3f1f",
   "metadata": {},
   "source": [
    "### Q19. What are HTTP status codes, and why are they important in a Flask API?"
   ]
  },
  {
   "cell_type": "markdown",
   "id": "e27dbeba-1198-4706-871e-e61b38876d80",
   "metadata": {},
   "source": [
    "#### A19. HTTP status codes are three-digit numbers returned by a server to indicate the result of a client's request. They are categorized into five groups: informational (1xx), success (2xx), redirection (3xx), client errors (4xx), and server errors (5xx). These codes play a crucial role in web communication by providing clarity about the outcome of a request.\n",
    "\n",
    "#### In a Flask API, HTTP status codes are essential for communicating the state of a request to the client. For example, a 200 OK indicates a successful request, while a 404 Not Found signals that the requested resource does not exist. These codes help developers and clients understand the interaction between the client and server, enabling better debugging and user experience."
   ]
  },
  {
   "cell_type": "markdown",
   "id": "847fdd6c-8312-4bb3-8c2f-6ccd0edee75f",
   "metadata": {},
   "source": [
    "### Q20. How do you handle POST requests in Flask?"
   ]
  },
  {
   "cell_type": "markdown",
   "id": "2c08e220-4c4d-43f3-8bd0-3fcd7dcb2b3e",
   "metadata": {},
   "source": [
    "#### A20. To handle POST requests in Flask, you can use the @app.route decorator with the methods parameter set to include \"POST\". example:\n",
    "\n",
    "#### Steps to Handle POST Requests in Flask\n",
    "#### 1. Import Flask: Ensure you have Flask installed and imported.\n",
    "#### 2. Define a Route: Use @app.route to define the endpoint.\n",
    "#### 3. Specify Methods: Include \"POST\" in the methods parameter.\n",
    "#### 4. Access Data: Use request.form or request.json to retrieve data sent in the POST request."
   ]
  },
  {
   "cell_type": "markdown",
   "id": "e9587fc7-a777-4ab4-b8fc-338353f4b448",
   "metadata": {},
   "source": [
    "### Q21. How would you secure a Flask API?"
   ]
  },
  {
   "cell_type": "markdown",
   "id": "9fe00915-ed71-4164-89c7-0d2e1203d615",
   "metadata": {},
   "source": [
    "#### A21. Security Best Practices\n",
    "#### 1. Use HTTPS: Always run your API over HTTPS to encrypt traffic between the client and server.\n",
    "#### 2.Secret Key Management: Store secret keys and sensitive configuration outside of your codebase, preferably using environment variables or a dedicated secrets manager.\n",
    "#### 3.Token Expiration: Configure token expiration to limit the validity window, reducing the risk if a token is compromised.\n",
    "#### 4.Refresh Tokens: Implement refresh tokens for renewing access tokens securely.\n",
    "#### 5.Input Validation: Always validate and sanitize input to protect against injection attacks.\n",
    "#### 6.Rate Limiting: Implement rate limiting to protect against brute-force attacks."
   ]
  },
  {
   "cell_type": "markdown",
   "id": "d606aabf-c553-417e-bd13-1aa937a10e6f",
   "metadata": {},
   "source": [
    "### Q22. What is the significance of the Flask-RESTful extension?"
   ]
  },
  {
   "cell_type": "markdown",
   "id": "0c388f3c-03a8-4412-b0f5-24a04d7d24d3",
   "metadata": {},
   "source": [
    "#### A22. Flask-RESTful is a powerful extension for Flask that streamlines the process of building RESTful APIs, promoting best practices and reducing boilerplate code.\n",
    "#### Key Features and Benefits\n",
    "#### 1. Simplified API Development: Flask-RESTful provides a cleaner and more structured approach to building APIs. It allows developers to define API resources as Python classes, where each HTTP method (GET, POST, PUT, DELETE) is represented by a class method. This class-based approach reduces boilerplate code and enhances code organization. \n",
    "#### 2. Automatic Request Parsing: The extension includes built-in support for handling request arguments, making it easier to parse and validate incoming data. This feature helps streamline the development process by reducing the need for manual request handling. \n",
    "#### 3. Resource Management: Flask-RESTful encourages a resource-oriented design, where each resource is defined as a class that inherits from the Resource class. This design aligns with RESTful principles, ensuring that APIs are intuitive and consistent. \n",
    "#### 4. Response Formatting: The extension automatically formats responses in JSON, which is a common data interchange format for APIs. This feature simplifies the process of returning data to clients in a standardized format. \n",
    "#### 5. Integrated Error Handling: Flask-RESTful provides built-in exception handling for common errors, which helps developers manage errors gracefully and improve the overall robustness of their APIs. "
   ]
  },
  {
   "cell_type": "markdown",
   "id": "1e2117bf-d04a-4e12-b7a6-05c607aa07d4",
   "metadata": {},
   "source": [
    "### Q23.  What is the role of Flask’s session object?"
   ]
  },
  {
   "cell_type": "markdown",
   "id": "4ed54518-d857-4589-ba04-6f9931119756",
   "metadata": {},
   "source": [
    "#### A23. Flask's session object plays a crucial role in managing user-specific data across multiple requests in a web application. Its role:\n",
    "\n",
    "#### 1. User Data Storage: The session object allows you to store user-specific data, such as login status, preferences, or temporary information, which persists across multiple requests during a user's session.\n",
    "\n",
    "#### 2. Client-Side Storage: Flask stores session data on the client side using cookies. However, the data is securely signed with a secret key to prevent tampering.\n",
    "\n",
    "#### 3. Simplifies Authentication: It helps maintain user sessions without requiring repeated authentication, making it easier to manage logged-in users.\n",
    "\n",
    "#### 4. Easy Access: The session object behaves like a dictionary, allowing you to store and retrieve data using key-value pairs."
   ]
  },
  {
   "cell_type": "markdown",
   "id": "b2a877c9-2edb-4e9b-ab40-09ff7bc0986a",
   "metadata": {},
   "source": [
    "## PRACTICAL QUESTIONS"
   ]
  },
  {
   "cell_type": "markdown",
   "id": "7aa8145c-68dd-47d1-b0d9-f180b2d1c438",
   "metadata": {},
   "source": [
    "### Q1. How do you create a basic Flask application?"
   ]
  },
  {
   "cell_type": "raw",
   "id": "f039211f-6b1b-4091-9eae-2666961e3c57",
   "metadata": {},
   "source": [
    "#### A1. Creating a basic Flask application is simple and straightforward. Here's a step-by-step guide:\n",
    "\n",
    "1. Install Flask\n",
    "Make sure Flask is installed. You can install it using pip:\n",
    "pip install flask\n",
    "\n",
    "\n",
    "2. Create the Application\n",
    "Create a Python file (e.g., app.py) and write the following code:\n",
    "from flask import Flask\n",
    "\n",
    "# Create an instance of the Flask class\n",
    "app = Flask(__name__)\n",
    "\n",
    "# Define a route and its corresponding request handler\n",
    "@app.route('/')\n",
    "def home():\n",
    "    return \"Hello, Flask!\"\n",
    "\n",
    "# Run the application\n",
    "if __name__ == '__main__':\n",
    "    app.run(debug=True)\n",
    "\n",
    "\n",
    "3. Run the Application\n",
    "Run the file in your terminal:\n",
    "python app.py\n",
    "\n",
    "By default, the application will run on http://127.0.0.1:5000/. Open this URL in your browser, and you should see \"Hello, Flask!\" displayed."
   ]
  },
  {
   "cell_type": "markdown",
   "id": "72ffedad-2031-492f-b97e-a7f6fc199f9b",
   "metadata": {},
   "source": [
    "### Q2. How do you serve static files like images or CSS in Flask?"
   ]
  },
  {
   "cell_type": "raw",
   "id": "98e071de-fa60-470e-9767-c1aca211f879",
   "metadata": {},
   "source": [
    "Ans: Flask can also serve media files like images, videos, audio, text files, and PDFs using the static folder. Just like CSS and JavaScript, media files are stored in static/ and linked to HTML files.\n",
    "\n",
    "Steps to Serve Media Files:\n",
    "\n",
    "1.Place all media files inside the static/ folder.\n",
    "2.Link them in HTML using the /static/ path. Example: <img src=\"{{ url_for('static', filename='images/sample.jpg') }}\" alt=\"Sample Image\">\n",
    "3.In main.py, create routes for any static files you need to render.\n",
    "4. Run the Flask app, and media files will be served along with the web pages."
   ]
  },
  {
   "cell_type": "markdown",
   "id": "f5fae49d-5502-4f36-a309-f21762912b3e",
   "metadata": {},
   "source": [
    "### Q3. How do you define different routes with different HTTP methods in Flask?"
   ]
  },
  {
   "cell_type": "raw",
   "id": "9302f61a-5f97-4e46-a0ec-d4bf79c000c6",
   "metadata": {},
   "source": [
    "Ans: In Flask, you can define different routes with specific HTTP methods by using the @app.route decorator and specifying the methods parameter. Here's how you can do it:\n",
    "\n",
    "Example 1: Single Route with Multiple Methods\n",
    "from flask import Flask, request\n",
    "\n",
    "app = Flask(__name__)\n",
    "\n",
    "@app.route('/example', methods=['GET', 'POST'])\n",
    "def example():\n",
    "    if request.method == 'GET':\n",
    "        return \"This is a GET request\"\n",
    "    elif request.method == 'POST':\n",
    "        return \"This is a POST request\"\n",
    "\n",
    "if __name__ == '__main__':\n",
    "    app.run(debug=True)\n",
    "\n",
    "Example 2: Different Routes for Different Methods\n",
    "from flask import Flask\n",
    "\n",
    "app = Flask(__name__)\n",
    "\n",
    "@app.route('/get-route', methods=['GET'])\n",
    "def get_route():\n",
    "    return \"This route handles GET requests\"\n",
    "\n",
    "@app.route('/post-route', methods=['POST'])\n",
    "def post_route():\n",
    "    return \"This route handles POST requests\"\n",
    "\n",
    "if __name__ == '__main__':\n",
    "    app.run(debug=True)\n",
    "\n",
    "Example 3: Using the Same Function for Multiple Routes\n",
    "from flask import Flask\n",
    "\n",
    "app = Flask(__name__)\n",
    "\n",
    "@app.route('/route1', methods=['GET'])\n",
    "@app.route('/route2', methods=['POST'])\n",
    "def handle_routes():\n",
    "    return \"This function handles both /route1 and /route2\"\n",
    "\n",
    "if __name__ == '__main__':\n",
    "    app.run(debug=True)\n",
    "\n",
    "These examples demonstrate how you can define routes with different HTTP methods or even combine multiple routes into a single function. This flexibility allows you to build robust and dynamic web applications.\n"
   ]
  },
  {
   "cell_type": "markdown",
   "id": "0e331b48-67f7-4ff6-b6c8-91704c911f5c",
   "metadata": {},
   "source": [
    "### Q4. How do you render HTML templates in Flask?"
   ]
  },
  {
   "cell_type": "raw",
   "id": "97890bfe-c953-450f-a7df-be025befe242",
   "metadata": {},
   "source": [
    "Ans: One of Flask's powerful features is its ability to render HTML templates using Jinja2. Instead of returning plain strings in routes, we can use render_template() to serve HTML files dynamically.\n",
    "\n",
    "Create a templates Folder\n",
    "Flask looks for HTML files in a special directory called templates. Create a folder named templates in your project directory and create the index.html file.\n",
    "\n",
    "index.html:\n",
    "\n",
    "<!DOCTYPE html>\n",
    "<html>\n",
    "<head>\n",
    "    <title>Flask App</title>\n",
    "</head>\n",
    "<body>\n",
    "    <h2>Welcome to Flask</h2>\n",
    "    <p>This is a basic template rendering example.</p>\n",
    "</body>\n",
    "</html>"
   ]
  },
  {
   "cell_type": "markdown",
   "id": "7805f8a2-adb0-46df-b12a-ec260f34b31e",
   "metadata": {},
   "source": [
    "### Q5. How can you generate URLs for routes in Flask using url_for?"
   ]
  },
  {
   "cell_type": "raw",
   "id": "fb80b2d7-0e7c-4490-b6c7-edb52901f303",
   "metadata": {},
   "source": [
    "Ans: In Flask, you can use the url_for() function to dynamically generate URLs for your routes. This is particularly useful because it ensures that your URLs remain consistent and automatically adapt to changes in your route definitions.\n",
    "\n",
    "The url_for() function takes the name of the route (function name) as its first argument and generates the corresponding URL.\n",
    "from flask import Flask, url_for\n",
    "\n",
    "app = Flask(__name__)\n",
    "\n",
    "@app.route('/')\n",
    "def home():\n",
    "    return 'Welcome to the Home Page!'\n",
    "\n",
    "@app.route('/about')\n",
    "def about():\n",
    "    return 'About Page'\n",
    "\n",
    "with app.test_request_context():\n",
    "    print(url_for('home'))  # Output: /\n",
    "    print(url_for('about'))  # Output: /about\n",
    "\n",
    "\n",
    "Using url_for() ensures that your application is more maintainable and avoids hardcoding URLs. If you ever change the route, the URLs generated by url_for() will automatically update!\n"
   ]
  },
  {
   "cell_type": "markdown",
   "id": "fb01ddef-4821-4f6f-b706-b6faaef89201",
   "metadata": {},
   "source": [
    "### Q6.  How do you handle forms in Flask?"
   ]
  },
  {
   "cell_type": "raw",
   "id": "95916bef-9e2c-4a9c-a9f6-6f9b33163022",
   "metadata": {},
   "source": [
    "Ans: Handling Forms in Flask\n",
    "Flask provides a simple and efficient way to handle forms using the Flask-WTF extension, which integrates Flask with WTForms. Here's a concise guide to handling forms in Flask:\n",
    "\n",
    "1. Install Flask-WTF\n",
    "First, install the required package:\n",
    "pip install flask-wtf\n",
    "\n",
    "\n",
    "2. Create a Flask App and Configure Secret Key\n",
    "Set up your Flask app and configure a secret key for CSRF protection:\n",
    "from flask import Flask\n",
    "\n",
    "app = Flask(__name__)\n",
    "app.config['SECRET_KEY'] = 'your_secret_key'\n",
    "\n",
    "\n",
    "3. Define a Form Class\n",
    "Use FlaskForm from flask_wtf to define your form:\n",
    "from flask_wtf import FlaskForm\n",
    "from wtforms import StringField, SubmitField\n",
    "from wtforms.validators import DataRequired\n",
    "\n",
    "class MyForm(FlaskForm):\n",
    "    name = StringField('Name', validators=[DataRequired()])\n",
    "    submit = SubmitField('Submit')\n",
    "\n",
    "\n",
    "4. Create a Route to Handle the Form\n",
    "Set up a route to render and process the form:\n",
    "from flask import render_template, request\n",
    "\n",
    "@app.route('/form', methods=['GET', 'POST'])\n",
    "def form():\n",
    "    form = MyForm()\n",
    "    if form.validate_on_submit():\n",
    "        name = form.name.data\n",
    "        return f\"Hello, {name}!\"\n",
    "    return render_template('form.html', form=form)\n",
    "\n",
    "\n",
    "5. Create a Template for the Form\n",
    "In your templates folder, create a form.html file:\n",
    "<!DOCTYPE html>\n",
    "<html>\n",
    "<head>\n",
    "    <title>Flask Form</title>\n",
    "</head>\n",
    "<body>\n",
    "    <form method=\"POST\">\n",
    "        {{ form.hidden_tag() }}\n",
    "        {{ form.name.label }} {{ form.name(size=20) }}\n",
    "        {{ form.submit() }}\n",
    "    </form>\n",
    "</body>\n",
    "</html>\n",
    "\n",
    "\n",
    "6. Run the Application\n",
    "Run your Flask app:\n",
    "flask run\n"
   ]
  },
  {
   "cell_type": "markdown",
   "id": "3cf09964-5290-4b32-a079-873186d24adc",
   "metadata": {},
   "source": [
    "### Q7. How can you validate form data in Flask?"
   ]
  },
  {
   "cell_type": "raw",
   "id": "eb617f83-bab4-407f-8cb4-75219b2201bf",
   "metadata": {},
   "source": [
    "Answer: Python Flask Code:\n",
    "\n",
    "from flask import Flask, render_template, request, redirect, url_for, flash\n",
    "app = Flask(__name__)\n",
    "app.secret_key = 'secret'  # Flash messages require a secret key\n",
    "@app.route('/')\n",
    "def home():\n",
    "    return render_template('form.html')\n",
    "@app.route('/submit', methods=['POST'])\n",
    "def submit():\n",
    "    name = request.form['name']\n",
    "    email = request.form['email']\n",
    "    if not name:\n",
    "        flash('Name is required!')\n",
    "        return redirect(url_for('home'))\n",
    "    \n",
    "    if '@' not in email:\n",
    "        flash('Invalid email!')\n",
    "        return redirect(url_for('home'))\n",
    "    flash('Form submitted successfully!')\n",
    "    return redirect(url_for('home'))\n",
    "if __name__ == '__main__':\n",
    "    app.run(debug=True)\n",
    "\n",
    "\n",
    "HTML Form:\n",
    "\n",
    "<!DOCTYPE html>\n",
    "<html lang=\"en\">\n",
    "<head>\n",
    "    <meta charset=\"UTF-8\">\n",
    "    <meta name=\"viewport\" content=\"width=device-width, initial-scale=1.0\">\n",
    "    <title>Submit Form</title>\n",
    "</head>\n",
    "<body>\n",
    "    <h2>Submit Your Information</h2>\n",
    "    {% with messages = get_flashed_messages() %}\n",
    "        {% if messages %}\n",
    "            <ul>\n",
    "                {% for message in messages %}\n",
    "                    <li>{{ message }}</li>\n",
    "                {% endfor %}\n",
    "            </ul>\n",
    "        {% endif %}\n",
    "    {% endwith %}\n",
    "    <form action=\"/submit\" method=\"POST\">\n",
    "        <label for=\"name\">Name:</label>\n",
    "        <input type=\"text\" id=\"name\" name=\"name\"><br><br>\n",
    "        <label for=\"email\">Email:</label>\n",
    "        <input type=\"email\" id=\"email\" name=\"email\"><br><br>\n",
    "        <button type=\"submit\">Submit</button>\n",
    "    </form>\n",
    "</body>\n",
    "</html>"
   ]
  },
  {
   "cell_type": "markdown",
   "id": "1d384e21-2948-4cbb-abb4-6871852bf1bf",
   "metadata": {},
   "source": [
    "### Q8. How do you manage sessions in Flask?"
   ]
  },
  {
   "cell_type": "raw",
   "id": "2cb44b01-d692-4492-8e96-2f0d957b25f9",
   "metadata": {},
   "source": [
    "Ans: \n",
    "@app.route('/')\n",
    "def index():\n",
    "   if 'username' in session:\n",
    "      username = session['username']\n",
    "         return 'Logged in as ' &plus; username &plus; '<br>' &plus; \\\n",
    "         \"<b><a href = '/logout'>click here to log out</a></b>\"\n",
    "   return \"You are not logged in <br><a href = '/login'></b>\" &plus; \\\n",
    "      \"click here to log in</b></a>\"\n",
    "As user browses to /login the login() view function, because it is called through GET method, opens up a login form.\n",
    "\n",
    "A Form is posted back to /login and now session variable is set. Application is redirected to /. This time session variable username is found.\n",
    "\n",
    "@app.route('/login', methods = ['GET', 'POST'])\n",
    "def login():\n",
    "   if request.method == 'POST':\n",
    "      session['username'] = request.form['username']\n",
    "      return redirect(url_for('index'))\n",
    "   return '''\n",
    "\t\n",
    "   <form action = \"\" method = \"post\">\n",
    "      <p><input type = text name = username/></p>\n",
    "      <p<<input type = submit value = Login/></p>\n",
    "   </form>\n",
    "\t\n",
    "   '''\n",
    "The application also contains a logout() view function, which pops out username session variable. Hence, / URL again shows the opening page.\n",
    "\n",
    "@app.route('/logout')\n",
    "def logout():\n",
    "   # remove the username from the session if it is there\n",
    "   session.pop('username', None)\n",
    "   return redirect(url_for('index'))\n",
    "Run the application and visit the homepage. (Ensure to set secret_key of the application)\n",
    "\n",
    "from flask import Flask, session, redirect, url_for, escape, request\n",
    "app = Flask(__name__)\n",
    "app.secret_key = 'any random string'"
   ]
  },
  {
   "cell_type": "markdown",
   "id": "10e07800-6da7-40e2-ad4a-c2fbd4f8c14a",
   "metadata": {},
   "source": [
    "### Q9. How do you redirect to a different route in Flask?"
   ]
  },
  {
   "cell_type": "raw",
   "id": "539de101-eb31-493e-a116-b90afb03d87c",
   "metadata": {},
   "source": [
    "Ans: To redirect to a different route in Flask, you can use the redirect() function along with the url_for() function. Here's how you can do it:\n",
    "Example Code:\n",
    "from flask import Flask, redirect, url_for\n",
    "\n",
    "app = Flask(__name__)\n",
    "\n",
    "@app.route('/')\n",
    "def home():\n",
    "    return \"Welcome to the Home Page!\"\n",
    "\n",
    "@app.route('/redirect-me')\n",
    "def redirect_me():\n",
    "    # Redirecting to the 'home' route\n",
    "    return redirect(url_for('home'))\n",
    "\n",
    "if __name__ == '__main__':\n",
    "    app.run(debug=True)\n",
    "\n",
    "\n",
    "In the example above:\n",
    "\n",
    "Visiting /redirect-me will redirect the user to / (the home route).\n",
    "\n"
   ]
  },
  {
   "cell_type": "markdown",
   "id": "3ab57da3-dae5-4105-acba-5e71c7e8dd0c",
   "metadata": {},
   "source": [
    "### Q10. How do you handle errors in Flask (e.g., 404)?"
   ]
  },
  {
   "cell_type": "raw",
   "id": "f4329fc7-4f6a-4398-9896-aca5da82ca0c",
   "metadata": {},
   "source": [
    "Ans: \n",
    "app.config['TRAP_HTTP_EXCEPTIONS']=True\n",
    "\n",
    "@app.errorhandler(Exception)\n",
    "def handle_error(e):\n",
    "    try:\n",
    "        if e.code < 400:\n",
    "            return flask.Response.force_type(e, flask.request.environ)\n",
    "        elif e.code == 404:\n",
    "            return make_error_page(\"Page Not Found\", \"The page you're looking for was not found\"), 404\n",
    "        raise e\n",
    "    except:\n",
    "        return make_error_page(\"Error\", \"Something went wrong\"), 500"
   ]
  },
  {
   "cell_type": "markdown",
   "id": "379b6db8-2566-4b28-86ad-ab92b53a542e",
   "metadata": {},
   "source": [
    "### Q11. How do you structure a Flask app using Blueprints?"
   ]
  },
  {
   "cell_type": "raw",
   "id": "fcc5dba3-d81a-4296-acc5-c2f786f8d630",
   "metadata": {},
   "source": [
    "Ans:\n",
    "Add the following code to a new Python file at the root level, blueprint.py.\n",
    "\n",
    "from flask import Blueprint\n",
    " \n",
    "bp = Blueprint(\"blueprint\", __name__)\n",
    " \n",
    "@bp.route(\"/\")\n",
    "def home():\n",
    "    return \"<h1>Hello</h1>\"\n",
    " \n",
    "@bp.route(\"/user\")\n",
    "def user_info():\n",
    "    return \"<h1>User Info</h1>\"\n",
    "The code imports the Blueprint class from the flask which will help in defining the routes."
   ]
  },
  {
   "cell_type": "markdown",
   "id": "e7fe3b93-0b97-4c0b-9a76-388534d5c57b",
   "metadata": {},
   "source": [
    "### Q12. How do you define a custom Jinja filter in Flask?"
   ]
  },
  {
   "cell_type": "raw",
   "id": "90883cee-0c89-49b1-b72d-7e2a3ed2ae18",
   "metadata": {},
   "source": [
    "Ans: To define a custom Jinja2 filter in Flask, you can follow these steps:\n",
    "\n",
    "1. Define the Custom Filter Function\n",
    "Create a Python function that implements the desired functionality. This function will take the input value and optionally additional arguments.\n",
    "def reverse_string(value):\n",
    "    return value[::-1]\n",
    "\n",
    "\n",
    "2. Register the Filter with Flask's Jinja Environment\n",
    "Use Flask's app.jinja_env.filters dictionary to register your custom filter.\n",
    "from flask import Flask\n",
    "\n",
    "app = Flask(__name__)\n",
    "\n",
    "# Register the custom filter\n",
    "app.jinja_env.filters['reverse'] = reverse_string\n",
    "\n",
    "\n",
    "3. Use the Filter in Your Jinja Template\n",
    "In your Jinja template, you can now use the custom filter like this:\n",
    "<p>{{ \"hello\" | reverse }}</p>\n",
    "\n",
    "This will render as:\n",
    "<p>olleh</p>\n"
   ]
  },
  {
   "cell_type": "markdown",
   "id": "4aa55fd8-794b-418c-8bb3-bd9c30476574",
   "metadata": {},
   "source": [
    "### Q13. How can you redirect with query parameters in Flask?"
   ]
  },
  {
   "cell_type": "raw",
   "id": "1c95e99a-20a6-4e5a-84bb-fccfb1c79520",
   "metadata": {},
   "source": [
    "Ans: \n",
    "In Flask, you can redirect with query parameters by using the redirect() function in combination with url_for(). The url_for() function allows you to generate a URL for a specific endpoint and pass query parameters as keyword arguments.\n",
    "Here’s an example:\n",
    "from flask import Flask, redirect, url_for\n",
    "\n",
    "app = Flask(__name__)\n",
    "\n",
    "@app.route('/destination')\n",
    "def destination():\n",
    "    # Access query parameters using request.args\n",
    "    return \"You have been redirected!\"\n",
    "\n",
    "@app.route('/redirect-example')\n",
    "def redirect_example():\n",
    "    # Redirect to 'destination' with query parameters\n",
    "    return redirect(url_for('destination', param1='value1', param2='value2'))\n",
    "\n",
    "if __name__ == '__main__':\n",
    "    app.run(debug=True)\n"
   ]
  },
  {
   "cell_type": "markdown",
   "id": "2d66494b-0c78-48df-a9ba-3ea960f19fb3",
   "metadata": {},
   "source": [
    "### Q14. How do you return JSON responses in Flask?"
   ]
  },
  {
   "cell_type": "raw",
   "id": "de2588fa-17e8-4e6c-9f0f-f37f11440c89",
   "metadata": {},
   "source": [
    "Ans: \n",
    "Using jsonify :\n",
    "\n",
    "Flask provides the jsonify function, which automatically converts Python dictionaries into JSON format and sets the appropriate Content-Type header.\n",
    "from flask import Flask, jsonify\n",
    "\n",
    "app = Flask(__name__)\n",
    "\n",
    "@app.route('/json')\n",
    "def return_json():\n",
    "    data = {\"message\": \"Hello, World!\", \"status\": \"success\"}\n",
    "    return jsonify(data)\n",
    "\n",
    "if __name__ == '__main__':\n",
    "    app.run(debug=True)\n"
   ]
  },
  {
   "cell_type": "markdown",
   "id": "ff1c4f78-851a-433f-97fa-3eaf328c83f2",
   "metadata": {},
   "source": [
    "### Q15. How do you capture URL parameters in Flask?"
   ]
  },
  {
   "cell_type": "raw",
   "id": "5c7769d4-19ba-43a3-9a9d-2869a81ee92f",
   "metadata": {},
   "source": [
    "Ans:\n",
    "In Flask, you can use request.args.get() to retrieve query parameters from a URL. If a parameter is missing, you can set a default value to ensure your application behaves as expected.\n",
    "\n",
    "Example\n",
    "\n",
    "from flask import Flask, request\n",
    "\n",
    "app = Flask(__name__)\n",
    "\n",
    "@app.route('/greet')\n",
    "def greet():\n",
    "# Retrieve 'name' parameter with a default value of 'Guest'\n",
    "name = request.args.get('name', default='Guest')\n",
    "return f\"Hello, {name}!\"\n",
    "\n",
    "if __name__ == '__main__':\n",
    "app.run()\n",
    "\n",
    "\n",
    "URL without parameter: http://127.0.0.1:5000/greet Output: Hello, Guest!\n",
    "\n",
    "URL with parameter: http://127.0.0.1:5000/greet?name=Angad Output: Hello, Angad!"
   ]
  }
 ],
 "metadata": {
  "kernelspec": {
   "display_name": "Python [conda env:base] *",
   "language": "python",
   "name": "conda-base-py"
  },
  "language_info": {
   "codemirror_mode": {
    "name": "ipython",
    "version": 3
   },
   "file_extension": ".py",
   "mimetype": "text/x-python",
   "name": "python",
   "nbconvert_exporter": "python",
   "pygments_lexer": "ipython3",
   "version": "3.13.5"
  }
 },
 "nbformat": 4,
 "nbformat_minor": 5
}
